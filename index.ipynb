{
 "cells": [
  {
   "attachments": {},
   "cell_type": "markdown",
   "metadata": {},
   "source": [
    "# Plotting with Python\n",
    "\n",
    "## Introduction\n",
    "\n",
    "Graphs are extremely important for communicating data quickly and effectively. You might have created a graph in MicroSoft Excel before. When you do, you have to click around the software to modify the graph's appearance and what data it uses. This might not take too much time if you're only doing it once but what if you had to make similar graphs another ten times? A hundred times? Or a thousand times? The process would quickly get very boring, take a lot of time, and you'd be more likely to make mistakes!\n",
    "\n",
    "We can use Python to write programs that plot our data. The program acts as instructions to create the graph. It's very customisable and you can use the same code over and over again! Many of the graphs and visualisations you see in magazines, newspapers and social media are created using programming. Data scientists and statisticians create graphs to communicate data to doctors, politicians, CEOs, etc., to influence important decisions. \n",
    "\n",
    "In this activity you are going to create your own graphs using Python. \n",
    "\n",
    "Don't feel nervous if this is your first time using Python and you don't understand all the code (*this is a normal feeling for programmers too*). You won't be asked to write your own from scratch, only to edit what we give you. \n",
    "\n",
    "<br> <br>"
   ]
  },
  {
   "attachments": {},
   "cell_type": "markdown",
   "metadata": {},
   "source": [
    "## Animal ageing\n",
    "\n",
    "The oldest human ever was a French woman named Jeanne Calment. She lived to the age of <b>122 years and 164 days.</b> Whilst humans can be very long-lived, some animals can live even longer. Understanding what makes these animals live for so long could be important for letting us live longer and healthier lifespans. Below are some examples of long-lived animals:\n",
    "\n",
    "<br>\n",
    "<center>\n",
    "\n",
    "<img src=\"images/long_lived_animals.png\" alt=\"Long lived animals\"/>\n",
    "\n",
    "</center>\n",
    "<br>\n",
    "\n",
    "\n",
    "We are going to create plots to show the maximum lifespan of various animals, both long-lived and short-lived. We will customise our plots in various ways.\n",
    "\n",
    "Learning objectives:\n",
    "- To understand which types of animals live the longest\n",
    "- To have an introduction to Python\n",
    "- To use Python to create plots of animal maximum ages\n",
    "\n",
    "\n",
    "<br>\n",
    "\n",
    "<br>\n",
    "\n",
    "### Load packages\n",
    "\n",
    "Python does not know how to process and plot data on its own. Python packages contain additional commands that don’t come installed with Python, and allow us to carry out certain extra tasks. In this activity we're going to need to load two known as `pandas` and `matplotlib`. `Pandas` is a package that lets python read and edit data, much like you'd use Excel to process raw data. `Matplotlib` is the package that then lets us plot the data. We can load them by pasting the following code into our first chunk and pressing the play button:\n"
   ]
  },
  {
   "cell_type": "code",
   "execution_count": null,
   "metadata": {},
   "outputs": [],
   "source": [
    "# CODE GOES HERE"
   ]
  },
  {
   "attachments": {},
   "cell_type": "markdown",
   "metadata": {},
   "source": [
    "<br>\n",
    "\n",
    "As part of this, we rename the packages to something shorter. 'Matplotlib.pyplot' is quite a lot of letters to type every time! Each time we used it we'd have to type:\n",
    "\n",
    "`matplotlib.pyplot.plot`\n",
    "\n",
    "<br>\n",
    "\n",
    "Instead, we can rename the package as we load it to something simple and easy to remember. In this case 'plt'. So the above line of code would become:\n",
    "\n",
    "`plt.plot`\n",
    "\n",
    "<br>\n",
    "\n",
    "In summary, this is how we load and rename a package:\n",
    "\n",
    "<br>\n",
    "<center>\n",
    "\n",
    "<img src=\"https://github.com/ejjohnson93/outreach_jupyter/blob/main/images/import2.png?raw=true\" alt=\"Alternative text\" width=\"400\"/>\n",
    "\n",
    "</center>\n",
    "<br><br>"
   ]
  },
  {
   "attachments": {},
   "cell_type": "markdown",
   "metadata": {},
   "source": [
    "### Load the data\n",
    "\n",
    "Next we are going to load our animal ageing data. The data we're going to be using can be found [here](https://raw.githubusercontent.com/CBFLivUni/scholars_event/refs/heads/main/data/animal_ageing_data.csv). We are going to load it using the package mentioned earlier 'pandas'. Remember, we have loaded 'pandas' and renamed it to 'pd'.\n",
    "\n",
    "<br>\n",
    "\n",
    "The code to load the data is below. We have left the space for the URL blank \"____\" for you to fill in. "
   ]
  },
  {
   "cell_type": "code",
   "execution_count": 2,
   "metadata": {},
   "outputs": [],
   "source": [
    "# CODE GOES HERE"
   ]
  },
  {
   "attachments": {},
   "cell_type": "markdown",
   "metadata": {},
   "source": [
    "We use the `read_csv` function contained inside the 'pandas' package to load the data at the url. We then store it in a *variable* called 'data' using the equals sign.\n",
    "\n",
    "We can view the data by typing the name of the variable in a code chunk:"
   ]
  },
  {
   "cell_type": "code",
   "execution_count": 3,
   "metadata": {},
   "outputs": [],
   "source": [
    "# CODE GOES HERE"
   ]
  },
  {
   "attachments": {},
   "cell_type": "markdown",
   "metadata": {},
   "source": [
    "### Inspect and format data"
   ]
  },
  {
   "attachments": {},
   "cell_type": "markdown",
   "metadata": {},
   "source": [
    "There are lots of rows and columns in our data. In the code below we will extract just the oldest animals from the data, and then we will print our their names and lifespans. "
   ]
  },
  {
   "cell_type": "code",
   "execution_count": 4,
   "metadata": {},
   "outputs": [],
   "source": [
    "# CODE GOES HERE"
   ]
  },
  {
   "cell_type": "markdown",
   "metadata": {},
   "source": [
    "In this code we take our data and sort it in order of longevity. We tell it NOT to do it in ascending order by saying `ascending=False`. We take the top 8 by including `head(8)`. We then save it in a new variable called 'oldest animals'. \n",
    "\n",
    "After that, we print the two colums we are interested in (\"Common name\" and \"Maximum longevity\" (yrs)\"). Do any of these animals surprise you?\n",
    "\n",
    "> **Challenge 1**: Can you modify the above code so that 'oldest_animals' has the 12 most long-lived animals instead?\n",
    "\n",
    "> **Challenge 2**: Can you make another variable called 'shortest_lived_animals' that has the 12 most short-lived animals?"
   ]
  },
  {
   "cell_type": "code",
   "execution_count": null,
   "metadata": {},
   "outputs": [],
   "source": [
    "# Challenge 1"
   ]
  },
  {
   "cell_type": "code",
   "execution_count": null,
   "metadata": {},
   "outputs": [],
   "source": [
    "# Challenge 2"
   ]
  },
  {
   "cell_type": "markdown",
   "metadata": {},
   "source": [
    "### Plot the data!"
   ]
  },
  {
   "cell_type": "markdown",
   "metadata": {},
   "source": [
    "We are now going to create a simple horizontal bar plot of the 12 most long-lived animals. In the code below:\n",
    "\n",
    "- The first line sets the size of the figure.\n",
    "- The second line creates a *horiztonal* bar plot (this is a normal bar plot rotated 90 degrees).\n",
    "- The third line tells Python to display the plot. \n",
    "\n",
    "We have left the name of the column containing the lifespan data blank \"______\" can you fill it in below with the correct column name? (Hint: look at what columns we printed above.)"
   ]
  },
  {
   "cell_type": "code",
   "execution_count": 7,
   "metadata": {},
   "outputs": [],
   "source": [
    "# CODE GOES HERE"
   ]
  },
  {
   "cell_type": "markdown",
   "metadata": {},
   "source": [
    "So far this is quite a simple plot, and it doesn't have any labels or units for the x- and y- axes - this would be considered a poor graph in reality!\n",
    "\n",
    "With matplotlib (our Python plotting package) we can keep adding layers of new information to our plot. We are now going to fill in the x- and y- axis. However, we have left the y-axis blank for you to fill in with a suitable name. "
   ]
  },
  {
   "cell_type": "code",
   "execution_count": 8,
   "metadata": {},
   "outputs": [],
   "source": [
    "# CODE GOES HERE"
   ]
  },
  {
   "attachments": {},
   "cell_type": "markdown",
   "metadata": {},
   "source": [
    "We have now created a simple plot of animal longevity!\n",
    "\n",
    "<br><br>"
   ]
  },
  {
   "attachments": {},
   "cell_type": "markdown",
   "metadata": {},
   "source": [
    "### Make it pretty"
   ]
  },
  {
   "attachments": {},
   "cell_type": "markdown",
   "metadata": {},
   "source": [
    "Our graph above looks quite good but we might want to customise it more to our liking. We could first change the colours. We do this by passing an additional 'argument' to our command `plt` to let it know the colours we want to use. An example of changing all the colours of our graph is below. (Note: the spelling of 'colour' is American in python).\n",
    "\n",
    "We have also added a title to our graph to explain what we are seeing. "
   ]
  },
  {
   "cell_type": "code",
   "execution_count": 9,
   "metadata": {},
   "outputs": [],
   "source": [
    "# CODE GOES HERE"
   ]
  },
  {
   "attachments": {},
   "cell_type": "markdown",
   "metadata": {},
   "source": [
    "<br>\n",
    "\n",
    "You can use any colours you like to customise the graph. You just have to change the name of the colours inside the 'color' argument. The ones below all come included with matplotlib.\n",
    "\n",
    "<br>\n",
    "<center>\n",
    "\n",
    "<img src=\"https://github.com/ejjohnson93/outreach_jupyter/blob/main/images/colours.png?raw=true\" alt=\"Alternative text\" width=\"600\"/>\n",
    "\n",
    "</center>\n",
    "\n",
    "<br>\n",
    "\n",
    "As well as the colours that come included, matplotlib lets you to pick any colour using a **hexcode** (a 6 character number/letter code after a hash/#).\n",
    "\n",
    "We can create hexcodes for colours using some of these links:\n",
    "\n",
    "- <https://htmlcolorcodes.com/color-picker/>\n",
    "- https://color.adobe.com/create/color-wheel\n",
    "- https://www.colorhexa.com/6738c9\n",
    "- <https://imagecolorpicker.com/en>\n",
    "\n",
    "The last link will allow you to create a colour palette from an image and give you the hex codes for the palette.\n",
    "\n",
    "<br>\n",
    "<center>\n",
    "\n",
    "<img src=\"https://github.com/ejjohnson93/outreach_jupyter/blob/main/images/paleete.png?raw=true\" alt=\"Alternative text\" width=\"500\"/>\n",
    "\n",
    "</center>\n",
    "\n",
    "<br>\n",
    "\n",
    "\n"
   ]
  },
  {
   "attachments": {},
   "cell_type": "markdown",
   "metadata": {},
   "source": [
    "\n",
    "\n",
    "> **Challenge 1**: Can you change the colours of the graph using the inbuilt colour names in matplotlib? \n",
    "\n",
    "> **Challenge 2**: Can you change the colours using hexcodes instead? Maybe you could pick colours that remind you of the animals? If you're unsure what they look like then use Google to check. Otherwise, just select colours you like. ☺"
   ]
  },
  {
   "cell_type": "code",
   "execution_count": 10,
   "metadata": {},
   "outputs": [],
   "source": [
    "# Challenge 1"
   ]
  },
  {
   "cell_type": "code",
   "execution_count": 11,
   "metadata": {},
   "outputs": [],
   "source": [
    "# Challenge 2"
   ]
  },
  {
   "attachments": {},
   "cell_type": "markdown",
   "metadata": {},
   "source": [
    "Another way we can modify our graph is by using a different 'theme'. Themes are different ways of styling the plot, for example background colour, default bar colours, fonts, gridlines, etc. Matplotlib comes with prepared styles that you can use to modify your graph.\n"
   ]
  },
  {
   "attachments": {},
   "cell_type": "markdown",
   "metadata": {},
   "source": [
    "We can then see a list of which styles we can use using this code:"
   ]
  },
  {
   "cell_type": "code",
   "execution_count": 12,
   "metadata": {},
   "outputs": [],
   "source": [
    "# CODE GOES HERE"
   ]
  },
  {
   "attachments": {},
   "cell_type": "markdown",
   "metadata": {},
   "source": [
    "An example of one of the styles applied to our graph is below:"
   ]
  },
  {
   "cell_type": "code",
   "execution_count": 13,
   "metadata": {},
   "outputs": [],
   "source": [
    "# CODE GOES HERE"
   ]
  },
  {
   "attachments": {},
   "cell_type": "markdown",
   "metadata": {},
   "source": [
    "<br>\n",
    "\n",
    "> <b>Challenge 1:</b> pick a style! Apply it to your graph instead of the one used in the example above. Try a few, which do you like best? \n",
    "\n",
    "> <b>Challenge 2:</b> Can you include a theme AND your custom colours?"
   ]
  },
  {
   "cell_type": "code",
   "execution_count": 14,
   "metadata": {},
   "outputs": [],
   "source": [
    "# Challenge 1 \n"
   ]
  },
  {
   "cell_type": "code",
   "execution_count": 15,
   "metadata": {},
   "outputs": [],
   "source": [
    "# Challenge 2\n"
   ]
  },
  {
   "cell_type": "markdown",
   "metadata": {},
   "source": [
    "If you don't want to use a theme and prefer the default appearance, you can change it back at any time by running this block of code. "
   ]
  },
  {
   "cell_type": "code",
   "execution_count": 16,
   "metadata": {},
   "outputs": [],
   "source": [
    "# CODE GOES HERE"
   ]
  },
  {
   "cell_type": "markdown",
   "metadata": {},
   "source": [
    "### To finish\n",
    "\n",
    "Well done! You have now learned how to create a plot of using Python. \n",
    "\n",
    "Now, using everything we've learned, can you modify the code to create a plot of the *shortest-lived* animals in the dataset - remember that earlier in the activity we created a variable storing the data called `shortest_lived_animals`. \n",
    "\n",
    "Don't worry if this part proves tricky and ask the teachers for help at any point if you get stuck! "
   ]
  },
  {
   "cell_type": "markdown",
   "metadata": {},
   "source": [
    "## Advanced/additional activities"
   ]
  },
  {
   "cell_type": "markdown",
   "metadata": {},
   "source": [
    "This section is entirely optional and you should only attempt it if you have completed all the challenges above!\n",
    "\n",
    "When we first looked at our dataset at the start it had columns containing extra information. One column of interest is \"type\", which lets us know what type of animal they are (mammal, reptile, etc). Let's manually inspect what type of animal the longest-lived animals are..."
   ]
  },
  {
   "cell_type": "code",
   "execution_count": 17,
   "metadata": {},
   "outputs": [],
   "source": [
    "# CODE GOES HERE"
   ]
  },
  {
   "cell_type": "markdown",
   "metadata": {},
   "source": [
    "Are there any of these you haven't heard of before?\n",
    "\n",
    " For example, echinoids are animals that have a spikey hard shell. Echinoids evolved about 450 million years ago, which is about 220 million years before first dinosaurs appeared! Today we would commonly think of them as 'sea urchins' but there are plenty of fossils of ancient echinoids. Below is an artist's rendition of one vs some red and black sea urchins. \n",
    "\n",
    "<br>\n",
    "<center>\n",
    "\n",
    "<img src=\"images/urchins.png\" alt=\"Echinoids\"/>\n",
    "\n",
    "</center>\n",
    "<br>\n",
    "\n",
    "It would be useful to colour our graph by the different animal types. This would give our colours more meaning and also allow us to see if there are any patterns in the data. First, we will store all the unique types of animals in a new variable called 'types'. We can print 'types' to see what this includes. "
   ]
  },
  {
   "cell_type": "code",
   "execution_count": 18,
   "metadata": {},
   "outputs": [],
   "source": [
    "# CODE GOES HERE"
   ]
  },
  {
   "cell_type": "markdown",
   "metadata": {},
   "source": [
    "Now we are going to create a colour map for the different types of animals. \n",
    "\n",
    "This code is a little more complex so don't try to understand all of it. To summarise, we first manually create a colour map for our different types of animals. Then we create a 'list', which is a type of information Python can work with to set the colours. "
   ]
  },
  {
   "cell_type": "code",
   "execution_count": 19,
   "metadata": {},
   "outputs": [],
   "source": [
    "# CODE GOES HERE"
   ]
  },
  {
   "cell_type": "markdown",
   "metadata": {},
   "source": [
    "We can then use our colour map in our plotting code. This includes an aditional step where we manually add a legend too so we can see which colour corresponds to which type of animal."
   ]
  },
  {
   "cell_type": "code",
   "execution_count": 20,
   "metadata": {},
   "outputs": [],
   "source": [
    "# CODE GOES HERE"
   ]
  },
  {
   "cell_type": "markdown",
   "metadata": {},
   "source": [
    "From this, we can see that many of the most long-lived animals in our dataset are mammals, in particular whales and humans! The longest-lived animal is a mollusc, but there is only one of them.\n",
    "\n",
    "The full code to generate the graph is below:"
   ]
  },
  {
   "cell_type": "code",
   "execution_count": 21,
   "metadata": {},
   "outputs": [],
   "source": [
    "# CODE GOES HERE"
   ]
  },
  {
   "cell_type": "markdown",
   "metadata": {},
   "source": [
    "> <b>Challenge 1:</b> Using the above code, can you modify the colour map and assign your own colours to the types of animals?\n",
    "\n",
    "> <b>Challenge 2:</b> Can you repeat the same steps as above to colour code the data for the shortest-lived animals?"
   ]
  },
  {
   "cell_type": "code",
   "execution_count": 22,
   "metadata": {},
   "outputs": [],
   "source": [
    "# Challenge 1"
   ]
  },
  {
   "cell_type": "code",
   "execution_count": 23,
   "metadata": {},
   "outputs": [],
   "source": [
    "# Challenge 2 - check what types of animals there are\n"
   ]
  },
  {
   "cell_type": "code",
   "execution_count": 24,
   "metadata": {},
   "outputs": [],
   "source": [
    "# Challenge 2 - create the colour map and graph\n"
   ]
  },
  {
   "cell_type": "markdown",
   "metadata": {},
   "source": [
    "If you got this far then well done, that concludes all of our activities! "
   ]
  }
 ],
 "metadata": {
  "kernelspec": {
   "display_name": "Python 3",
   "language": "python",
   "name": "python3"
  },
  "language_info": {
   "codemirror_mode": {
    "name": "ipython",
    "version": 3
   },
   "file_extension": ".py",
   "mimetype": "text/x-python",
   "name": "python",
   "nbconvert_exporter": "python",
   "pygments_lexer": "ipython3",
   "version": "3.10.5"
  },
  "orig_nbformat": 4
 },
 "nbformat": 4,
 "nbformat_minor": 2
}
